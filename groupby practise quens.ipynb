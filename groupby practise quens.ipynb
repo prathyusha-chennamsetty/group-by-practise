{
 "cells": [
  {
   "cell_type": "markdown",
   "metadata": {
    "id": "BE2qAJ6Qpnho"
   },
   "source": [
    "### 1. Import the required libraries"
   ]
  },
  {
   "cell_type": "code",
   "execution_count": 36,
   "metadata": {
    "ExecuteTime": {
     "end_time": "2024-01-30T05:08:24.891025Z",
     "start_time": "2024-01-30T05:08:24.884184Z"
    },
    "executionInfo": {
     "elapsed": 363,
     "status": "ok",
     "timestamp": 1690903995752,
     "user": {
      "displayName": "V. Arun Kumar",
      "userId": "02991517788843717529"
     },
     "user_tz": -330
    },
    "id": "7CeqdzJCjFDy"
   },
   "outputs": [],
   "source": [
    "import pandas as pd \n",
    "import numpy as np\n",
    "import matplotlib.pyplot as plt\n",
    "import seaborn as sns"
   ]
  },
  {
   "cell_type": "markdown",
   "metadata": {
    "id": "C0eaTpzNps2F"
   },
   "source": [
    "### 2. Import the data"
   ]
  },
  {
   "cell_type": "code",
   "execution_count": 37,
   "metadata": {
    "ExecuteTime": {
     "end_time": "2024-01-30T05:08:26.388773Z",
     "start_time": "2024-01-30T05:08:26.192430Z"
    },
    "executionInfo": {
     "elapsed": 14,
     "status": "ok",
     "timestamp": 1690903996707,
     "user": {
      "displayName": "V. Arun Kumar",
      "userId": "02991517788843717529"
     },
     "user_tz": -330
    },
    "id": "VVNOY06ilX7s"
   },
   "outputs": [],
   "source": [
    "df = pd.read_excel(\"Sales.xlsx\")\n"
   ]
  },
  {
   "cell_type": "markdown",
   "metadata": {
    "id": "SqDsIJ15pu3J"
   },
   "source": [
    "### 3. Check the data"
   ]
  },
  {
   "cell_type": "code",
   "execution_count": 38,
   "metadata": {
    "ExecuteTime": {
     "end_time": "2024-01-30T05:08:27.387131Z",
     "start_time": "2024-01-30T05:08:27.368945Z"
    },
    "executionInfo": {
     "elapsed": 13,
     "status": "ok",
     "timestamp": 1690903996707,
     "user": {
      "displayName": "V. Arun Kumar",
      "userId": "02991517788843717529"
     },
     "user_tz": -330
    },
    "id": "xPLZcnkRnpXk"
   },
   "outputs": [
    {
     "data": {
      "text/html": [
       "<div>\n",
       "<style scoped>\n",
       "    .dataframe tbody tr th:only-of-type {\n",
       "        vertical-align: middle;\n",
       "    }\n",
       "\n",
       "    .dataframe tbody tr th {\n",
       "        vertical-align: top;\n",
       "    }\n",
       "\n",
       "    .dataframe thead th {\n",
       "        text-align: right;\n",
       "    }\n",
       "</style>\n",
       "<table border=\"1\" class=\"dataframe\">\n",
       "  <thead>\n",
       "    <tr style=\"text-align: right;\">\n",
       "      <th></th>\n",
       "      <th>Date</th>\n",
       "      <th>Region</th>\n",
       "      <th>Sales Rep</th>\n",
       "      <th>Customer</th>\n",
       "      <th>Product</th>\n",
       "      <th>COGS</th>\n",
       "      <th>Sales</th>\n",
       "    </tr>\n",
       "  </thead>\n",
       "  <tbody>\n",
       "    <tr>\n",
       "      <th>0</th>\n",
       "      <td>2004-06-17</td>\n",
       "      <td>MidWest</td>\n",
       "      <td>Harry</td>\n",
       "      <td>ExcelIsVeryFun.com</td>\n",
       "      <td>MWN Item</td>\n",
       "      <td>6305.0008</td>\n",
       "      <td>9272.06</td>\n",
       "    </tr>\n",
       "    <tr>\n",
       "      <th>1</th>\n",
       "      <td>2004-06-17</td>\n",
       "      <td>East</td>\n",
       "      <td>Harry</td>\n",
       "      <td>Office Depot</td>\n",
       "      <td>MBP Item</td>\n",
       "      <td>5773.2000</td>\n",
       "      <td>8490.00</td>\n",
       "    </tr>\n",
       "    <tr>\n",
       "      <th>2</th>\n",
       "      <td>2004-06-17</td>\n",
       "      <td>South</td>\n",
       "      <td>Harry</td>\n",
       "      <td>ExcelIsVeryFun.com</td>\n",
       "      <td>KVM Item</td>\n",
       "      <td>8271.4896</td>\n",
       "      <td>9399.42</td>\n",
       "    </tr>\n",
       "    <tr>\n",
       "      <th>3</th>\n",
       "      <td>2004-06-17</td>\n",
       "      <td>West</td>\n",
       "      <td>Jon</td>\n",
       "      <td>Sherman Williams</td>\n",
       "      <td>UBU Item</td>\n",
       "      <td>4919.6028</td>\n",
       "      <td>7234.71</td>\n",
       "    </tr>\n",
       "    <tr>\n",
       "      <th>4</th>\n",
       "      <td>2004-06-17</td>\n",
       "      <td>North</td>\n",
       "      <td>Harry</td>\n",
       "      <td>Whole Foods</td>\n",
       "      <td>HES Item</td>\n",
       "      <td>5838.1500</td>\n",
       "      <td>7784.20</td>\n",
       "    </tr>\n",
       "  </tbody>\n",
       "</table>\n",
       "</div>"
      ],
      "text/plain": [
       "        Date   Region Sales Rep            Customer   Product       COGS  \\\n",
       "0 2004-06-17  MidWest     Harry  ExcelIsVeryFun.com  MWN Item  6305.0008   \n",
       "1 2004-06-17     East     Harry        Office Depot  MBP Item  5773.2000   \n",
       "2 2004-06-17    South     Harry  ExcelIsVeryFun.com  KVM Item  8271.4896   \n",
       "3 2004-06-17     West       Jon    Sherman Williams  UBU Item  4919.6028   \n",
       "4 2004-06-17    North     Harry         Whole Foods  HES Item  5838.1500   \n",
       "\n",
       "     Sales  \n",
       "0  9272.06  \n",
       "1  8490.00  \n",
       "2  9399.42  \n",
       "3  7234.71  \n",
       "4  7784.20  "
      ]
     },
     "execution_count": 38,
     "metadata": {},
     "output_type": "execute_result"
    }
   ],
   "source": [
    "df.head()"
   ]
  },
  {
   "cell_type": "markdown",
   "metadata": {
    "id": "5DvhTCbwp2O6"
   },
   "source": [
    "### 4. Get the descriptive statistics for the data"
   ]
  },
  {
   "cell_type": "code",
   "execution_count": 39,
   "metadata": {
    "ExecuteTime": {
     "end_time": "2024-01-30T05:08:28.353242Z",
     "start_time": "2024-01-30T05:08:28.329873Z"
    },
    "executionInfo": {
     "elapsed": 13,
     "status": "ok",
     "timestamp": 1690903996707,
     "user": {
      "displayName": "V. Arun Kumar",
      "userId": "02991517788843717529"
     },
     "user_tz": -330
    },
    "id": "ouWsgN2fnrI9"
   },
   "outputs": [
    {
     "data": {
      "text/html": [
       "<div>\n",
       "<style scoped>\n",
       "    .dataframe tbody tr th:only-of-type {\n",
       "        vertical-align: middle;\n",
       "    }\n",
       "\n",
       "    .dataframe tbody tr th {\n",
       "        vertical-align: top;\n",
       "    }\n",
       "\n",
       "    .dataframe thead th {\n",
       "        text-align: right;\n",
       "    }\n",
       "</style>\n",
       "<table border=\"1\" class=\"dataframe\">\n",
       "  <thead>\n",
       "    <tr style=\"text-align: right;\">\n",
       "      <th></th>\n",
       "      <th>count</th>\n",
       "      <th>mean</th>\n",
       "      <th>std</th>\n",
       "      <th>min</th>\n",
       "      <th>25%</th>\n",
       "      <th>50%</th>\n",
       "      <th>75%</th>\n",
       "      <th>max</th>\n",
       "    </tr>\n",
       "  </thead>\n",
       "  <tbody>\n",
       "    <tr>\n",
       "      <th>COGS</th>\n",
       "      <td>1999.0</td>\n",
       "      <td>3148.949353</td>\n",
       "      <td>2057.604330</td>\n",
       "      <td>7.4104</td>\n",
       "      <td>1456.42475</td>\n",
       "      <td>2963.2338</td>\n",
       "      <td>4456.441</td>\n",
       "      <td>9318.958</td>\n",
       "    </tr>\n",
       "    <tr>\n",
       "      <th>Sales</th>\n",
       "      <td>1999.0</td>\n",
       "      <td>5041.272721</td>\n",
       "      <td>2875.600841</td>\n",
       "      <td>12.5600</td>\n",
       "      <td>2557.62000</td>\n",
       "      <td>4976.4200</td>\n",
       "      <td>7526.840</td>\n",
       "      <td>9994.240</td>\n",
       "    </tr>\n",
       "  </tbody>\n",
       "</table>\n",
       "</div>"
      ],
      "text/plain": [
       "        count         mean          std      min         25%        50%  \\\n",
       "COGS   1999.0  3148.949353  2057.604330   7.4104  1456.42475  2963.2338   \n",
       "Sales  1999.0  5041.272721  2875.600841  12.5600  2557.62000  4976.4200   \n",
       "\n",
       "            75%       max  \n",
       "COGS   4456.441  9318.958  \n",
       "Sales  7526.840  9994.240  "
      ]
     },
     "execution_count": 39,
     "metadata": {},
     "output_type": "execute_result"
    }
   ],
   "source": [
    "df.describe().T"
   ]
  },
  {
   "cell_type": "markdown",
   "metadata": {
    "id": "j0dTBv8wqESC"
   },
   "source": [
    "### 5. Check the basic info of the dataset"
   ]
  },
  {
   "cell_type": "code",
   "execution_count": 40,
   "metadata": {
    "ExecuteTime": {
     "end_time": "2024-01-30T05:08:29.226623Z",
     "start_time": "2024-01-30T05:08:29.213726Z"
    },
    "executionInfo": {
     "elapsed": 13,
     "status": "ok",
     "timestamp": 1690903996707,
     "user": {
      "displayName": "V. Arun Kumar",
      "userId": "02991517788843717529"
     },
     "user_tz": -330
    },
    "id": "BzJSyix0n-ZF"
   },
   "outputs": [
    {
     "data": {
      "text/plain": [
       "(1999, 7)"
      ]
     },
     "execution_count": 40,
     "metadata": {},
     "output_type": "execute_result"
    }
   ],
   "source": [
    "df.shape"
   ]
  },
  {
   "cell_type": "code",
   "execution_count": 41,
   "metadata": {
    "ExecuteTime": {
     "end_time": "2024-01-30T05:08:29.650543Z",
     "start_time": "2024-01-30T05:08:29.636794Z"
    }
   },
   "outputs": [
    {
     "name": "stdout",
     "output_type": "stream",
     "text": [
      "<class 'pandas.core.frame.DataFrame'>\n",
      "RangeIndex: 1999 entries, 0 to 1998\n",
      "Data columns (total 7 columns):\n",
      " #   Column     Non-Null Count  Dtype         \n",
      "---  ------     --------------  -----         \n",
      " 0   Date       1999 non-null   datetime64[ns]\n",
      " 1   Region     1999 non-null   object        \n",
      " 2   Sales Rep  1999 non-null   object        \n",
      " 3   Customer   1999 non-null   object        \n",
      " 4   Product    1999 non-null   object        \n",
      " 5   COGS       1999 non-null   float64       \n",
      " 6   Sales      1999 non-null   float64       \n",
      "dtypes: datetime64[ns](1), float64(2), object(4)\n",
      "memory usage: 109.4+ KB\n"
     ]
    }
   ],
   "source": [
    "df.info()"
   ]
  },
  {
   "cell_type": "code",
   "execution_count": 42,
   "metadata": {
    "ExecuteTime": {
     "end_time": "2024-01-30T05:08:30.040772Z",
     "start_time": "2024-01-30T05:08:30.023855Z"
    }
   },
   "outputs": [
    {
     "data": {
      "text/plain": [
       "0"
      ]
     },
     "execution_count": 42,
     "metadata": {},
     "output_type": "execute_result"
    }
   ],
   "source": [
    "df.duplicated().sum()"
   ]
  },
  {
   "cell_type": "markdown",
   "metadata": {
    "id": "rrOKMwfo3aKi"
   },
   "source": [
    "###6. Find the total sales amount across each region"
   ]
  },
  {
   "cell_type": "code",
   "execution_count": 43,
   "metadata": {
    "ExecuteTime": {
     "end_time": "2024-01-30T05:08:30.863449Z",
     "start_time": "2024-01-30T05:08:30.840711Z"
    },
    "executionInfo": {
     "elapsed": 13,
     "status": "ok",
     "timestamp": 1690903996708,
     "user": {
      "displayName": "V. Arun Kumar",
      "userId": "02991517788843717529"
     },
     "user_tz": -330
    },
    "id": "lQzUpI8-ojLr"
   },
   "outputs": [
    {
     "data": {
      "text/plain": [
       "Region\n",
       "East       3426489.59\n",
       "MidWest    1651501.56\n",
       "North      1723421.38\n",
       "South      1706418.14\n",
       "West       1569673.50\n",
       "Name: Sales, dtype: float64"
      ]
     },
     "execution_count": 43,
     "metadata": {},
     "output_type": "execute_result"
    }
   ],
   "source": [
    "df.groupby('Region')['Sales'].sum()"
   ]
  },
  {
   "cell_type": "markdown",
   "metadata": {
    "id": "Pl2ASKS65PKY"
   },
   "source": [
    "###7. Find the total count of Sales and COGS across various regions"
   ]
  },
  {
   "cell_type": "code",
   "execution_count": 44,
   "metadata": {
    "ExecuteTime": {
     "end_time": "2024-01-30T05:08:31.626490Z",
     "start_time": "2024-01-30T05:08:31.611131Z"
    },
    "executionInfo": {
     "elapsed": 13,
     "status": "ok",
     "timestamp": 1690903996708,
     "user": {
      "displayName": "V. Arun Kumar",
      "userId": "02991517788843717529"
     },
     "user_tz": -330
    },
    "id": "lVA3oGtJpQB9"
   },
   "outputs": [
    {
     "name": "stderr",
     "output_type": "stream",
     "text": [
      "C:\\Users\\sai prathyusha\\AppData\\Local\\Temp\\ipykernel_6076\\1528297011.py:1: FutureWarning: Indexing with multiple keys (implicitly converted to a tuple of keys) will be deprecated, use a list instead.\n",
      "  df.groupby('Region')['Sales','COGS'].count()\n"
     ]
    },
    {
     "data": {
      "text/html": [
       "<div>\n",
       "<style scoped>\n",
       "    .dataframe tbody tr th:only-of-type {\n",
       "        vertical-align: middle;\n",
       "    }\n",
       "\n",
       "    .dataframe tbody tr th {\n",
       "        vertical-align: top;\n",
       "    }\n",
       "\n",
       "    .dataframe thead th {\n",
       "        text-align: right;\n",
       "    }\n",
       "</style>\n",
       "<table border=\"1\" class=\"dataframe\">\n",
       "  <thead>\n",
       "    <tr style=\"text-align: right;\">\n",
       "      <th></th>\n",
       "      <th>Sales</th>\n",
       "      <th>COGS</th>\n",
       "    </tr>\n",
       "    <tr>\n",
       "      <th>Region</th>\n",
       "      <th></th>\n",
       "      <th></th>\n",
       "    </tr>\n",
       "  </thead>\n",
       "  <tbody>\n",
       "    <tr>\n",
       "      <th>East</th>\n",
       "      <td>688</td>\n",
       "      <td>688</td>\n",
       "    </tr>\n",
       "    <tr>\n",
       "      <th>MidWest</th>\n",
       "      <td>314</td>\n",
       "      <td>314</td>\n",
       "    </tr>\n",
       "    <tr>\n",
       "      <th>North</th>\n",
       "      <td>342</td>\n",
       "      <td>342</td>\n",
       "    </tr>\n",
       "    <tr>\n",
       "      <th>South</th>\n",
       "      <td>335</td>\n",
       "      <td>335</td>\n",
       "    </tr>\n",
       "    <tr>\n",
       "      <th>West</th>\n",
       "      <td>320</td>\n",
       "      <td>320</td>\n",
       "    </tr>\n",
       "  </tbody>\n",
       "</table>\n",
       "</div>"
      ],
      "text/plain": [
       "         Sales  COGS\n",
       "Region              \n",
       "East       688   688\n",
       "MidWest    314   314\n",
       "North      342   342\n",
       "South      335   335\n",
       "West       320   320"
      ]
     },
     "execution_count": 44,
     "metadata": {},
     "output_type": "execute_result"
    }
   ],
   "source": [
    "df.groupby('Region')['Sales','COGS'].count()"
   ]
  },
  {
   "cell_type": "markdown",
   "metadata": {
    "id": "TUQTNBST52zy"
   },
   "source": [
    "### 8. Find the Average Sales and Average COGS across various regions"
   ]
  },
  {
   "cell_type": "code",
   "execution_count": 45,
   "metadata": {
    "ExecuteTime": {
     "end_time": "2024-01-30T05:08:32.464904Z",
     "start_time": "2024-01-30T05:08:32.442227Z"
    },
    "executionInfo": {
     "elapsed": 13,
     "status": "ok",
     "timestamp": 1690903996708,
     "user": {
      "displayName": "V. Arun Kumar",
      "userId": "02991517788843717529"
     },
     "user_tz": -330
    },
    "id": "ZjSv9nVyrfY8"
   },
   "outputs": [
    {
     "name": "stderr",
     "output_type": "stream",
     "text": [
      "C:\\Users\\sai prathyusha\\AppData\\Local\\Temp\\ipykernel_6076\\723704277.py:1: FutureWarning: Indexing with multiple keys (implicitly converted to a tuple of keys) will be deprecated, use a list instead.\n",
      "  df.groupby('Region')['Sales','COGS'].mean()\n"
     ]
    },
    {
     "data": {
      "text/html": [
       "<div>\n",
       "<style scoped>\n",
       "    .dataframe tbody tr th:only-of-type {\n",
       "        vertical-align: middle;\n",
       "    }\n",
       "\n",
       "    .dataframe tbody tr th {\n",
       "        vertical-align: top;\n",
       "    }\n",
       "\n",
       "    .dataframe thead th {\n",
       "        text-align: right;\n",
       "    }\n",
       "</style>\n",
       "<table border=\"1\" class=\"dataframe\">\n",
       "  <thead>\n",
       "    <tr style=\"text-align: right;\">\n",
       "      <th></th>\n",
       "      <th>Sales</th>\n",
       "      <th>COGS</th>\n",
       "    </tr>\n",
       "    <tr>\n",
       "      <th>Region</th>\n",
       "      <th></th>\n",
       "      <th></th>\n",
       "    </tr>\n",
       "  </thead>\n",
       "  <tbody>\n",
       "    <tr>\n",
       "      <th>East</th>\n",
       "      <td>4980.362776</td>\n",
       "      <td>3073.589504</td>\n",
       "    </tr>\n",
       "    <tr>\n",
       "      <th>MidWest</th>\n",
       "      <td>5259.559108</td>\n",
       "      <td>3390.568526</td>\n",
       "    </tr>\n",
       "    <tr>\n",
       "      <th>North</th>\n",
       "      <td>5039.243801</td>\n",
       "      <td>3109.908385</td>\n",
       "    </tr>\n",
       "    <tr>\n",
       "      <th>South</th>\n",
       "      <td>5093.785493</td>\n",
       "      <td>3116.845563</td>\n",
       "    </tr>\n",
       "    <tr>\n",
       "      <th>West</th>\n",
       "      <td>4905.229688</td>\n",
       "      <td>3149.217907</td>\n",
       "    </tr>\n",
       "  </tbody>\n",
       "</table>\n",
       "</div>"
      ],
      "text/plain": [
       "               Sales         COGS\n",
       "Region                           \n",
       "East     4980.362776  3073.589504\n",
       "MidWest  5259.559108  3390.568526\n",
       "North    5039.243801  3109.908385\n",
       "South    5093.785493  3116.845563\n",
       "West     4905.229688  3149.217907"
      ]
     },
     "execution_count": 45,
     "metadata": {},
     "output_type": "execute_result"
    }
   ],
   "source": [
    "df.groupby('Region')['Sales','COGS'].mean()"
   ]
  },
  {
   "cell_type": "code",
   "execution_count": 46,
   "metadata": {
    "ExecuteTime": {
     "end_time": "2024-01-30T05:08:32.901361Z",
     "start_time": "2024-01-30T05:08:32.884139Z"
    },
    "executionInfo": {
     "elapsed": 14,
     "status": "ok",
     "timestamp": 1690903996709,
     "user": {
      "displayName": "V. Arun Kumar",
      "userId": "02991517788843717529"
     },
     "user_tz": -330
    },
    "id": "KYjjNHTktH26"
   },
   "outputs": [
    {
     "data": {
      "text/plain": [
       "Index(['Date', 'Region', 'Sales Rep', 'Customer', 'Product', 'COGS', 'Sales'], dtype='object')"
      ]
     },
     "execution_count": 46,
     "metadata": {},
     "output_type": "execute_result"
    }
   ],
   "source": [
    "df.columns"
   ]
  },
  {
   "cell_type": "markdown",
   "metadata": {
    "id": "GP-0OFxVCMfk"
   },
   "source": [
    "### 9. Find the average sales across different regions for each sales representative"
   ]
  },
  {
   "cell_type": "code",
   "execution_count": 88,
   "metadata": {
    "ExecuteTime": {
     "end_time": "2024-01-30T05:33:52.615298Z",
     "start_time": "2024-01-30T05:33:52.593149Z"
    },
    "executionInfo": {
     "elapsed": 14,
     "status": "ok",
     "timestamp": 1690903996709,
     "user": {
      "displayName": "V. Arun Kumar",
      "userId": "02991517788843717529"
     },
     "user_tz": -330
    },
    "id": "FiG3oX4Wq2B5"
   },
   "outputs": [
    {
     "data": {
      "text/html": [
       "<div>\n",
       "<style scoped>\n",
       "    .dataframe tbody tr th:only-of-type {\n",
       "        vertical-align: middle;\n",
       "    }\n",
       "\n",
       "    .dataframe tbody tr th {\n",
       "        vertical-align: top;\n",
       "    }\n",
       "\n",
       "    .dataframe thead th {\n",
       "        text-align: right;\n",
       "    }\n",
       "</style>\n",
       "<table border=\"1\" class=\"dataframe\">\n",
       "  <thead>\n",
       "    <tr style=\"text-align: right;\">\n",
       "      <th>Sales Rep</th>\n",
       "      <th>Harry</th>\n",
       "      <th>James</th>\n",
       "      <th>Jon</th>\n",
       "      <th>Luke</th>\n",
       "      <th>Rhonda</th>\n",
       "      <th>Sherry</th>\n",
       "      <th>Steven</th>\n",
       "      <th>Tom</th>\n",
       "    </tr>\n",
       "    <tr>\n",
       "      <th>Region</th>\n",
       "      <th></th>\n",
       "      <th></th>\n",
       "      <th></th>\n",
       "      <th></th>\n",
       "      <th></th>\n",
       "      <th></th>\n",
       "      <th></th>\n",
       "      <th></th>\n",
       "    </tr>\n",
       "  </thead>\n",
       "  <tbody>\n",
       "    <tr>\n",
       "      <th>East</th>\n",
       "      <td>486840.62</td>\n",
       "      <td>424234.18</td>\n",
       "      <td>334794.87</td>\n",
       "      <td>333815.59</td>\n",
       "      <td>402080.39</td>\n",
       "      <td>520169.79</td>\n",
       "      <td>500920.09</td>\n",
       "      <td>423634.06</td>\n",
       "    </tr>\n",
       "    <tr>\n",
       "      <th>MidWest</th>\n",
       "      <td>247987.69</td>\n",
       "      <td>207164.71</td>\n",
       "      <td>231778.99</td>\n",
       "      <td>199211.40</td>\n",
       "      <td>192855.38</td>\n",
       "      <td>185465.42</td>\n",
       "      <td>165974.78</td>\n",
       "      <td>221063.19</td>\n",
       "    </tr>\n",
       "    <tr>\n",
       "      <th>North</th>\n",
       "      <td>255416.43</td>\n",
       "      <td>220679.39</td>\n",
       "      <td>277404.03</td>\n",
       "      <td>208200.24</td>\n",
       "      <td>167137.03</td>\n",
       "      <td>156876.25</td>\n",
       "      <td>204597.69</td>\n",
       "      <td>233110.32</td>\n",
       "    </tr>\n",
       "    <tr>\n",
       "      <th>South</th>\n",
       "      <td>257832.05</td>\n",
       "      <td>169784.64</td>\n",
       "      <td>258672.84</td>\n",
       "      <td>231024.41</td>\n",
       "      <td>156087.13</td>\n",
       "      <td>169710.11</td>\n",
       "      <td>235576.52</td>\n",
       "      <td>227730.44</td>\n",
       "    </tr>\n",
       "    <tr>\n",
       "      <th>West</th>\n",
       "      <td>161464.09</td>\n",
       "      <td>290770.33</td>\n",
       "      <td>173559.67</td>\n",
       "      <td>210096.98</td>\n",
       "      <td>185281.95</td>\n",
       "      <td>188710.09</td>\n",
       "      <td>189088.14</td>\n",
       "      <td>170702.25</td>\n",
       "    </tr>\n",
       "  </tbody>\n",
       "</table>\n",
       "</div>"
      ],
      "text/plain": [
       "Sales Rep      Harry      James        Jon       Luke     Rhonda     Sherry  \\\n",
       "Region                                                                        \n",
       "East       486840.62  424234.18  334794.87  333815.59  402080.39  520169.79   \n",
       "MidWest    247987.69  207164.71  231778.99  199211.40  192855.38  185465.42   \n",
       "North      255416.43  220679.39  277404.03  208200.24  167137.03  156876.25   \n",
       "South      257832.05  169784.64  258672.84  231024.41  156087.13  169710.11   \n",
       "West       161464.09  290770.33  173559.67  210096.98  185281.95  188710.09   \n",
       "\n",
       "Sales Rep     Steven        Tom  \n",
       "Region                           \n",
       "East       500920.09  423634.06  \n",
       "MidWest    165974.78  221063.19  \n",
       "North      204597.69  233110.32  \n",
       "South      235576.52  227730.44  \n",
       "West       189088.14  170702.25  "
      ]
     },
     "execution_count": 88,
     "metadata": {},
     "output_type": "execute_result"
    }
   ],
   "source": [
    "avg_sales = df.groupby(['Region','Sales Rep'])['Sales'].sum().unstack()\n",
    "avg_sales"
   ]
  },
  {
   "cell_type": "markdown",
   "metadata": {
    "id": "wc7zETgtCenP"
   },
   "source": [
    "### 10. Plot the average sales across different regions for each sales representative"
   ]
  },
  {
   "cell_type": "code",
   "execution_count": 91,
   "metadata": {
    "ExecuteTime": {
     "end_time": "2024-01-30T05:34:32.357907Z",
     "start_time": "2024-01-30T05:34:32.164941Z"
    }
   },
   "outputs": [
    {
     "data": {
      "text/plain": [
       "<AxesSubplot:xlabel='Region'>"
      ]
     },
     "execution_count": 91,
     "metadata": {},
     "output_type": "execute_result"
    },
    {
     "data": {
      "image/png": "[encoded data removed]",
      "text/plain": [
       "<Figure size 640x480 with 1 Axes>"
      ]
     },
     "metadata": {},
     "output_type": "display_data"
    }
   ],
   "source": [
    "df.groupby(['Region','Sales Rep'])['Sales'].sum().unstack().plot(kind = 'bar')"
   ]
  },
  {
   "cell_type": "markdown",
   "metadata": {
    "id": "cpA_dEfCDa8s"
   },
   "source": [
    "### 11. Plot the total amount of sales for each sales representative"
   ]
  },
  {
   "cell_type": "code",
   "execution_count": 65,
   "metadata": {
    "ExecuteTime": {
     "end_time": "2024-01-30T05:16:35.742419Z",
     "start_time": "2024-01-30T05:16:35.426685Z"
    },
    "executionInfo": {
     "elapsed": 14,
     "status": "ok",
     "timestamp": 1690903996710,
     "user": {
      "displayName": "V. Arun Kumar",
      "userId": "02991517788843717529"
     },
     "user_tz": -330
    },
    "id": "Jyv-7y76znKk"
   },
   "outputs": [
    {
     "data": {
      "text/plain": [
       "<AxesSubplot:xlabel='Sales Rep', ylabel='Sales'>"
      ]
     },
     "execution_count": 65,
     "metadata": {},
     "output_type": "execute_result"
    },
    {
     "data": {
      "image/png": "[encoded data removed]",
      "text/plain": [
       "<Figure size 640x480 with 1 Axes>"
      ]
     },
     "metadata": {},
     "output_type": "display_data"
    }
   ],
   "source": [
    "sns.barplot(data = df, y = 'Sales', x = 'Sales Rep', ci = False,estimator=sum)\n",
    "#plt.bar_lable(ax.containers[0])"
   ]
  },
  {
   "cell_type": "code",
   "execution_count": 1,
   "metadata": {
    "executionInfo": {
     "elapsed": 13,
     "status": "ok",
     "timestamp": 1690903996710,
     "user": {
      "displayName": "V. Arun Kumar",
      "userId": "02991517788843717529"
     },
     "user_tz": -330
    },
    "id": "hrkWYFZ91KhG"
   },
   "outputs": [],
   "source": []
  },
  {
   "cell_type": "markdown",
   "metadata": {
    "id": "yS2nsFp7DnrZ"
   },
   "source": [
    "### 12. Plot the total sales across different regions"
   ]
  },
  {
   "cell_type": "code",
   "execution_count": 79,
   "metadata": {
    "ExecuteTime": {
     "end_time": "2024-01-30T05:25:27.265718Z",
     "start_time": "2024-01-30T05:25:26.978932Z"
    },
    "executionInfo": {
     "elapsed": 13,
     "status": "ok",
     "timestamp": 1690903996710,
     "user": {
      "displayName": "V. Arun Kumar",
      "userId": "02991517788843717529"
     },
     "user_tz": -330
    },
    "id": "r8sgkShI0l1S"
   },
   "outputs": [
    {
     "data": {
      "text/plain": [
       "<AxesSubplot:xlabel='Region', ylabel='Sales'>"
      ]
     },
     "execution_count": 79,
     "metadata": {},
     "output_type": "execute_result"
    },
    {
     "data": {
      "image/png": "[encoded data removed]",
      "text/plain": [
       "<Figure size 640x480 with 1 Axes>"
      ]
     },
     "metadata": {},
     "output_type": "display_data"
    }
   ],
   "source": [
    "sns.barplot(data = df, y = 'Sales', x = 'Region', ci = False,estimator=sum)\n",
    "#plt.bar_lable(ax.containers[0])"
   ]
  },
  {
   "cell_type": "markdown",
   "metadata": {
    "id": "YvF5SCUFD-ww"
   },
   "source": [
    "###13. Find the sum of sales for each sales representative"
   ]
  },
  {
   "cell_type": "code",
   "execution_count": 80,
   "metadata": {
    "ExecuteTime": {
     "end_time": "2024-01-30T05:25:59.872269Z",
     "start_time": "2024-01-30T05:25:59.853290Z"
    },
    "executionInfo": {
     "elapsed": 13,
     "status": "ok",
     "timestamp": 1690903996710,
     "user": {
      "displayName": "V. Arun Kumar",
      "userId": "02991517788843717529"
     },
     "user_tz": -330
    },
    "id": "68Lcf-oH_Y--"
   },
   "outputs": [
    {
     "data": {
      "text/plain": [
       "Sales Rep\n",
       "Harry     1409540.88\n",
       "James     1312633.25\n",
       "Jon       1276210.40\n",
       "Luke      1182348.62\n",
       "Rhonda    1103441.88\n",
       "Sherry    1220931.66\n",
       "Steven    1296157.22\n",
       "Tom       1276240.26\n",
       "Name: Sales, dtype: float64"
      ]
     },
     "execution_count": 80,
     "metadata": {},
     "output_type": "execute_result"
    }
   ],
   "source": [
    "df.groupby('Sales Rep')['Sales'].sum()"
   ]
  },
  {
   "cell_type": "code",
   "execution_count": 1,
   "metadata": {
    "executionInfo": {
     "elapsed": 14,
     "status": "ok",
     "timestamp": 1690903996711,
     "user": {
      "displayName": "V. Arun Kumar",
      "userId": "02991517788843717529"
     },
     "user_tz": -330
    },
    "id": "TgpE7O5YBpZ1"
   },
   "outputs": [],
   "source": []
  },
  {
   "cell_type": "code",
   "execution_count": 1,
   "metadata": {
    "executionInfo": {
     "elapsed": 13,
     "status": "ok",
     "timestamp": 1690903996711,
     "user": {
      "displayName": "V. Arun Kumar",
      "userId": "02991517788843717529"
     },
     "user_tz": -330
    },
    "id": "cGYfTnsuFffr"
   },
   "outputs": [],
   "source": []
  },
  {
   "cell_type": "markdown",
   "metadata": {
    "id": "bvpgs1gprBkH"
   },
   "source": [
    "### 14. Find the average sales for each sales representative"
   ]
  },
  {
   "cell_type": "code",
   "execution_count": 81,
   "metadata": {
    "ExecuteTime": {
     "end_time": "2024-01-30T05:26:15.746595Z",
     "start_time": "2024-01-30T05:26:15.727980Z"
    },
    "executionInfo": {
     "elapsed": 13,
     "status": "ok",
     "timestamp": 1690903996711,
     "user": {
      "displayName": "V. Arun Kumar",
      "userId": "02991517788843717529"
     },
     "user_tz": -330
    },
    "id": "GHqVobdR-o_7"
   },
   "outputs": [
    {
     "data": {
      "text/plain": [
       "Sales Rep\n",
       "Harry     5088.595235\n",
       "James     4879.677509\n",
       "Jon       5084.503586\n",
       "Luke      5074.457597\n",
       "Rhonda    5015.644909\n",
       "Sherry    5151.610380\n",
       "Steven    5123.151067\n",
       "Tom       4927.568571\n",
       "Name: Sales, dtype: float64"
      ]
     },
     "execution_count": 81,
     "metadata": {},
     "output_type": "execute_result"
    }
   ],
   "source": [
    "df.groupby('Sales Rep')['Sales'].mean()"
   ]
  },
  {
   "cell_type": "code",
   "execution_count": 82,
   "metadata": {
    "ExecuteTime": {
     "end_time": "2024-01-30T05:26:32.456307Z",
     "start_time": "2024-01-30T05:26:32.430020Z"
    },
    "executionInfo": {
     "elapsed": 13,
     "status": "ok",
     "timestamp": 1690903996711,
     "user": {
      "displayName": "V. Arun Kumar",
      "userId": "02991517788843717529"
     },
     "user_tz": -330
    },
    "id": "B8DUKocFFYcM"
   },
   "outputs": [
    {
     "data": {
      "text/html": [
       "<div>\n",
       "<style scoped>\n",
       "    .dataframe tbody tr th:only-of-type {\n",
       "        vertical-align: middle;\n",
       "    }\n",
       "\n",
       "    .dataframe tbody tr th {\n",
       "        vertical-align: top;\n",
       "    }\n",
       "\n",
       "    .dataframe thead th {\n",
       "        text-align: right;\n",
       "    }\n",
       "</style>\n",
       "<table border=\"1\" class=\"dataframe\">\n",
       "  <thead>\n",
       "    <tr style=\"text-align: right;\">\n",
       "      <th></th>\n",
       "      <th>Date</th>\n",
       "      <th>Region</th>\n",
       "      <th>Sales Rep</th>\n",
       "      <th>Customer</th>\n",
       "      <th>Product</th>\n",
       "      <th>COGS</th>\n",
       "      <th>Sales</th>\n",
       "    </tr>\n",
       "  </thead>\n",
       "  <tbody>\n",
       "    <tr>\n",
       "      <th>0</th>\n",
       "      <td>2004-06-17</td>\n",
       "      <td>MidWest</td>\n",
       "      <td>Harry</td>\n",
       "      <td>ExcelIsVeryFun.com</td>\n",
       "      <td>MWN Item</td>\n",
       "      <td>6305.0008</td>\n",
       "      <td>9272.06</td>\n",
       "    </tr>\n",
       "    <tr>\n",
       "      <th>1</th>\n",
       "      <td>2004-06-17</td>\n",
       "      <td>East</td>\n",
       "      <td>Harry</td>\n",
       "      <td>Office Depot</td>\n",
       "      <td>MBP Item</td>\n",
       "      <td>5773.2000</td>\n",
       "      <td>8490.00</td>\n",
       "    </tr>\n",
       "    <tr>\n",
       "      <th>2</th>\n",
       "      <td>2004-06-17</td>\n",
       "      <td>South</td>\n",
       "      <td>Harry</td>\n",
       "      <td>ExcelIsVeryFun.com</td>\n",
       "      <td>KVM Item</td>\n",
       "      <td>8271.4896</td>\n",
       "      <td>9399.42</td>\n",
       "    </tr>\n",
       "    <tr>\n",
       "      <th>3</th>\n",
       "      <td>2004-06-17</td>\n",
       "      <td>West</td>\n",
       "      <td>Jon</td>\n",
       "      <td>Sherman Williams</td>\n",
       "      <td>UBU Item</td>\n",
       "      <td>4919.6028</td>\n",
       "      <td>7234.71</td>\n",
       "    </tr>\n",
       "    <tr>\n",
       "      <th>4</th>\n",
       "      <td>2004-06-17</td>\n",
       "      <td>North</td>\n",
       "      <td>Harry</td>\n",
       "      <td>Whole Foods</td>\n",
       "      <td>HES Item</td>\n",
       "      <td>5838.1500</td>\n",
       "      <td>7784.20</td>\n",
       "    </tr>\n",
       "    <tr>\n",
       "      <th>...</th>\n",
       "      <td>...</td>\n",
       "      <td>...</td>\n",
       "      <td>...</td>\n",
       "      <td>...</td>\n",
       "      <td>...</td>\n",
       "      <td>...</td>\n",
       "      <td>...</td>\n",
       "    </tr>\n",
       "    <tr>\n",
       "      <th>1994</th>\n",
       "      <td>2006-06-14</td>\n",
       "      <td>East</td>\n",
       "      <td>Steven</td>\n",
       "      <td>Peet's Coffee</td>\n",
       "      <td>EJL Item</td>\n",
       "      <td>2315.4340</td>\n",
       "      <td>3405.05</td>\n",
       "    </tr>\n",
       "    <tr>\n",
       "      <th>1995</th>\n",
       "      <td>2006-06-15</td>\n",
       "      <td>North</td>\n",
       "      <td>Harry</td>\n",
       "      <td>Amazon.com</td>\n",
       "      <td>ZON Item</td>\n",
       "      <td>5406.2703</td>\n",
       "      <td>9163.17</td>\n",
       "    </tr>\n",
       "    <tr>\n",
       "      <th>1996</th>\n",
       "      <td>2006-06-15</td>\n",
       "      <td>East</td>\n",
       "      <td>Jon</td>\n",
       "      <td>Amazon.com</td>\n",
       "      <td>ZET Item</td>\n",
       "      <td>6971.4975</td>\n",
       "      <td>9295.33</td>\n",
       "    </tr>\n",
       "    <tr>\n",
       "      <th>1997</th>\n",
       "      <td>2006-06-15</td>\n",
       "      <td>North</td>\n",
       "      <td>Harry</td>\n",
       "      <td>Solar and Wind Inc.</td>\n",
       "      <td>JFA Item</td>\n",
       "      <td>736.2520</td>\n",
       "      <td>836.65</td>\n",
       "    </tr>\n",
       "    <tr>\n",
       "      <th>1998</th>\n",
       "      <td>2006-06-16</td>\n",
       "      <td>East</td>\n",
       "      <td>Jon</td>\n",
       "      <td>Google</td>\n",
       "      <td>QJV Item</td>\n",
       "      <td>1835.8972</td>\n",
       "      <td>3165.34</td>\n",
       "    </tr>\n",
       "  </tbody>\n",
       "</table>\n",
       "<p>1999 rows × 7 columns</p>\n",
       "</div>"
      ],
      "text/plain": [
       "           Date   Region Sales Rep             Customer   Product       COGS  \\\n",
       "0    2004-06-17  MidWest     Harry   ExcelIsVeryFun.com  MWN Item  6305.0008   \n",
       "1    2004-06-17     East     Harry         Office Depot  MBP Item  5773.2000   \n",
       "2    2004-06-17    South     Harry   ExcelIsVeryFun.com  KVM Item  8271.4896   \n",
       "3    2004-06-17     West       Jon     Sherman Williams  UBU Item  4919.6028   \n",
       "4    2004-06-17    North     Harry          Whole Foods  HES Item  5838.1500   \n",
       "...         ...      ...       ...                  ...       ...        ...   \n",
       "1994 2006-06-14     East    Steven        Peet's Coffee  EJL Item  2315.4340   \n",
       "1995 2006-06-15    North     Harry           Amazon.com  ZON Item  5406.2703   \n",
       "1996 2006-06-15     East       Jon           Amazon.com  ZET Item  6971.4975   \n",
       "1997 2006-06-15    North     Harry  Solar and Wind Inc.  JFA Item   736.2520   \n",
       "1998 2006-06-16     East       Jon               Google  QJV Item  1835.8972   \n",
       "\n",
       "        Sales  \n",
       "0     9272.06  \n",
       "1     8490.00  \n",
       "2     9399.42  \n",
       "3     7234.71  \n",
       "4     7784.20  \n",
       "...       ...  \n",
       "1994  3405.05  \n",
       "1995  9163.17  \n",
       "1996  9295.33  \n",
       "1997   836.65  \n",
       "1998  3165.34  \n",
       "\n",
       "[1999 rows x 7 columns]"
      ]
     },
     "execution_count": 82,
     "metadata": {},
     "output_type": "execute_result"
    }
   ],
   "source": [
    "df"
   ]
  },
  {
   "cell_type": "markdown",
   "metadata": {
    "id": "a3WkoDBkrJuS"
   },
   "source": [
    "### 15. Find the total count of products sold by each sales person irrespective of the region"
   ]
  },
  {
   "cell_type": "code",
   "execution_count": 110,
   "metadata": {
    "ExecuteTime": {
     "end_time": "2024-01-30T05:51:02.152237Z",
     "start_time": "2024-01-30T05:51:02.127997Z"
    },
    "executionInfo": {
     "elapsed": 13,
     "status": "ok",
     "timestamp": 1690903996711,
     "user": {
      "displayName": "V. Arun Kumar",
      "userId": "02991517788843717529"
     },
     "user_tz": -330
    },
    "id": "ukTnI3zQFmnW"
   },
   "outputs": [
    {
     "data": {
      "text/html": [
       "<div>\n",
       "<style scoped>\n",
       "    .dataframe tbody tr th:only-of-type {\n",
       "        vertical-align: middle;\n",
       "    }\n",
       "\n",
       "    .dataframe tbody tr th {\n",
       "        vertical-align: top;\n",
       "    }\n",
       "\n",
       "    .dataframe thead th {\n",
       "        text-align: right;\n",
       "    }\n",
       "</style>\n",
       "<table border=\"1\" class=\"dataframe\">\n",
       "  <thead>\n",
       "    <tr style=\"text-align: right;\">\n",
       "      <th></th>\n",
       "      <th>Sales Rep</th>\n",
       "      <th>TotalProductsSold</th>\n",
       "    </tr>\n",
       "  </thead>\n",
       "  <tbody>\n",
       "    <tr>\n",
       "      <th>0</th>\n",
       "      <td>Harry</td>\n",
       "      <td>277</td>\n",
       "    </tr>\n",
       "    <tr>\n",
       "      <th>1</th>\n",
       "      <td>James</td>\n",
       "      <td>269</td>\n",
       "    </tr>\n",
       "    <tr>\n",
       "      <th>2</th>\n",
       "      <td>Jon</td>\n",
       "      <td>251</td>\n",
       "    </tr>\n",
       "    <tr>\n",
       "      <th>3</th>\n",
       "      <td>Luke</td>\n",
       "      <td>233</td>\n",
       "    </tr>\n",
       "    <tr>\n",
       "      <th>4</th>\n",
       "      <td>Rhonda</td>\n",
       "      <td>220</td>\n",
       "    </tr>\n",
       "    <tr>\n",
       "      <th>5</th>\n",
       "      <td>Sherry</td>\n",
       "      <td>237</td>\n",
       "    </tr>\n",
       "    <tr>\n",
       "      <th>6</th>\n",
       "      <td>Steven</td>\n",
       "      <td>253</td>\n",
       "    </tr>\n",
       "    <tr>\n",
       "      <th>7</th>\n",
       "      <td>Tom</td>\n",
       "      <td>259</td>\n",
       "    </tr>\n",
       "  </tbody>\n",
       "</table>\n",
       "</div>"
      ],
      "text/plain": [
       "  Sales Rep  TotalProductsSold\n",
       "0     Harry                277\n",
       "1     James                269\n",
       "2       Jon                251\n",
       "3      Luke                233\n",
       "4    Rhonda                220\n",
       "5    Sherry                237\n",
       "6    Steven                253\n",
       "7       Tom                259"
      ]
     },
     "execution_count": 110,
     "metadata": {},
     "output_type": "execute_result"
    }
   ],
   "source": [
    "df.groupby('Sales Rep')['Product'].count().reset_index(name='TotalProductsSold')"
   ]
  },
  {
   "cell_type": "code",
   "execution_count": 1,
   "metadata": {
    "executionInfo": {
     "elapsed": 14,
     "status": "ok",
     "timestamp": 1690903996712,
     "user": {
      "displayName": "V. Arun Kumar",
      "userId": "02991517788843717529"
     },
     "user_tz": -330
    },
    "id": "JIghH80BAakU"
   },
   "outputs": [],
   "source": []
  },
  {
   "cell_type": "markdown",
   "metadata": {
    "id": "ERvjlwC5rtSX"
   },
   "source": [
    "### 16. Find the average sales across different regions for each sales representative"
   ]
  },
  {
   "cell_type": "code",
   "execution_count": 96,
   "metadata": {
    "ExecuteTime": {
     "end_time": "2024-01-30T05:36:06.056501Z",
     "start_time": "2024-01-30T05:36:06.039238Z"
    },
    "executionInfo": {
     "elapsed": 14,
     "status": "ok",
     "timestamp": 1690903996712,
     "user": {
      "displayName": "V. Arun Kumar",
      "userId": "02991517788843717529"
     },
     "user_tz": -330
    },
    "id": "mgQS_Gjy-ZrV"
   },
   "outputs": [
    {
     "data": {
      "text/html": [
       "<div>\n",
       "<style scoped>\n",
       "    .dataframe tbody tr th:only-of-type {\n",
       "        vertical-align: middle;\n",
       "    }\n",
       "\n",
       "    .dataframe tbody tr th {\n",
       "        vertical-align: top;\n",
       "    }\n",
       "\n",
       "    .dataframe thead th {\n",
       "        text-align: right;\n",
       "    }\n",
       "</style>\n",
       "<table border=\"1\" class=\"dataframe\">\n",
       "  <thead>\n",
       "    <tr style=\"text-align: right;\">\n",
       "      <th>Sales Rep</th>\n",
       "      <th>Harry</th>\n",
       "      <th>James</th>\n",
       "      <th>Jon</th>\n",
       "      <th>Luke</th>\n",
       "      <th>Rhonda</th>\n",
       "      <th>Sherry</th>\n",
       "      <th>Steven</th>\n",
       "      <th>Tom</th>\n",
       "    </tr>\n",
       "    <tr>\n",
       "      <th>Region</th>\n",
       "      <th></th>\n",
       "      <th></th>\n",
       "      <th></th>\n",
       "      <th></th>\n",
       "      <th></th>\n",
       "      <th></th>\n",
       "      <th></th>\n",
       "      <th></th>\n",
       "    </tr>\n",
       "  </thead>\n",
       "  <tbody>\n",
       "    <tr>\n",
       "      <th>East</th>\n",
       "      <td>5291.745870</td>\n",
       "      <td>4820.842955</td>\n",
       "      <td>4524.255000</td>\n",
       "      <td>4909.052794</td>\n",
       "      <td>5026.004875</td>\n",
       "      <td>5475.471474</td>\n",
       "      <td>4863.301845</td>\n",
       "      <td>4814.023409</td>\n",
       "    </tr>\n",
       "    <tr>\n",
       "      <th>MidWest</th>\n",
       "      <td>5060.973265</td>\n",
       "      <td>4603.660222</td>\n",
       "      <td>5794.474750</td>\n",
       "      <td>6036.709091</td>\n",
       "      <td>4821.384500</td>\n",
       "      <td>5299.012000</td>\n",
       "      <td>4881.611176</td>\n",
       "      <td>5817.452368</td>\n",
       "    </tr>\n",
       "    <tr>\n",
       "      <th>North</th>\n",
       "      <td>5321.175625</td>\n",
       "      <td>4503.661020</td>\n",
       "      <td>5234.038302</td>\n",
       "      <td>4957.148571</td>\n",
       "      <td>4915.795000</td>\n",
       "      <td>4614.007353</td>\n",
       "      <td>5683.269167</td>\n",
       "      <td>5067.615652</td>\n",
       "    </tr>\n",
       "    <tr>\n",
       "      <th>South</th>\n",
       "      <td>5055.530392</td>\n",
       "      <td>5476.923871</td>\n",
       "      <td>5503.677447</td>\n",
       "      <td>5133.875778</td>\n",
       "      <td>5035.068710</td>\n",
       "      <td>4714.169722</td>\n",
       "      <td>5121.228696</td>\n",
       "      <td>4744.384167</td>\n",
       "    </tr>\n",
       "    <tr>\n",
       "      <th>West</th>\n",
       "      <td>4363.894324</td>\n",
       "      <td>5192.327321</td>\n",
       "      <td>4690.801892</td>\n",
       "      <td>4668.821778</td>\n",
       "      <td>5293.770000</td>\n",
       "      <td>5100.272703</td>\n",
       "      <td>5561.415882</td>\n",
       "      <td>4376.980769</td>\n",
       "    </tr>\n",
       "  </tbody>\n",
       "</table>\n",
       "</div>"
      ],
      "text/plain": [
       "Sales Rep        Harry        James          Jon         Luke       Rhonda  \\\n",
       "Region                                                                       \n",
       "East       5291.745870  4820.842955  4524.255000  4909.052794  5026.004875   \n",
       "MidWest    5060.973265  4603.660222  5794.474750  6036.709091  4821.384500   \n",
       "North      5321.175625  4503.661020  5234.038302  4957.148571  4915.795000   \n",
       "South      5055.530392  5476.923871  5503.677447  5133.875778  5035.068710   \n",
       "West       4363.894324  5192.327321  4690.801892  4668.821778  5293.770000   \n",
       "\n",
       "Sales Rep       Sherry       Steven          Tom  \n",
       "Region                                            \n",
       "East       5475.471474  4863.301845  4814.023409  \n",
       "MidWest    5299.012000  4881.611176  5817.452368  \n",
       "North      4614.007353  5683.269167  5067.615652  \n",
       "South      4714.169722  5121.228696  4744.384167  \n",
       "West       5100.272703  5561.415882  4376.980769  "
      ]
     },
     "execution_count": 96,
     "metadata": {},
     "output_type": "execute_result"
    }
   ],
   "source": [
    "df.groupby(['Region','Sales Rep'])['Sales'].mean().unstack()"
   ]
  },
  {
   "cell_type": "code",
   "execution_count": 1,
   "metadata": {
    "executionInfo": {
     "elapsed": 14,
     "status": "ok",
     "timestamp": 1690903996712,
     "user": {
      "displayName": "V. Arun Kumar",
      "userId": "02991517788843717529"
     },
     "user_tz": -330
    },
    "id": "ApPhi3VoEokm"
   },
   "outputs": [],
   "source": []
  },
  {
   "cell_type": "markdown",
   "metadata": {
    "id": "Add-U7-fr-5a"
   },
   "source": [
    "### 17.  Find the total sales across different regions for each sales representative"
   ]
  },
  {
   "cell_type": "code",
   "execution_count": 125,
   "metadata": {
    "ExecuteTime": {
     "end_time": "2024-01-30T06:15:21.697804Z",
     "start_time": "2024-01-30T06:15:21.674749Z"
    },
    "executionInfo": {
     "elapsed": 13,
     "status": "ok",
     "timestamp": 1690903996712,
     "user": {
      "displayName": "V. Arun Kumar",
      "userId": "02991517788843717529"
     },
     "user_tz": -330
    },
    "id": "_UnXTFsk0CPO"
   },
   "outputs": [
    {
     "data": {
      "text/html": [
       "<div>\n",
       "<style scoped>\n",
       "    .dataframe tbody tr th:only-of-type {\n",
       "        vertical-align: middle;\n",
       "    }\n",
       "\n",
       "    .dataframe tbody tr th {\n",
       "        vertical-align: top;\n",
       "    }\n",
       "\n",
       "    .dataframe thead th {\n",
       "        text-align: right;\n",
       "    }\n",
       "</style>\n",
       "<table border=\"1\" class=\"dataframe\">\n",
       "  <thead>\n",
       "    <tr style=\"text-align: right;\">\n",
       "      <th></th>\n",
       "      <th>Region</th>\n",
       "      <th>Sales Rep</th>\n",
       "      <th>Sales</th>\n",
       "    </tr>\n",
       "  </thead>\n",
       "  <tbody>\n",
       "    <tr>\n",
       "      <th>0</th>\n",
       "      <td>East</td>\n",
       "      <td>Harry</td>\n",
       "      <td>486840.62</td>\n",
       "    </tr>\n",
       "    <tr>\n",
       "      <th>1</th>\n",
       "      <td>East</td>\n",
       "      <td>James</td>\n",
       "      <td>424234.18</td>\n",
       "    </tr>\n",
       "    <tr>\n",
       "      <th>2</th>\n",
       "      <td>East</td>\n",
       "      <td>Jon</td>\n",
       "      <td>334794.87</td>\n",
       "    </tr>\n",
       "    <tr>\n",
       "      <th>3</th>\n",
       "      <td>East</td>\n",
       "      <td>Luke</td>\n",
       "      <td>333815.59</td>\n",
       "    </tr>\n",
       "    <tr>\n",
       "      <th>4</th>\n",
       "      <td>East</td>\n",
       "      <td>Rhonda</td>\n",
       "      <td>402080.39</td>\n",
       "    </tr>\n",
       "    <tr>\n",
       "      <th>5</th>\n",
       "      <td>East</td>\n",
       "      <td>Sherry</td>\n",
       "      <td>520169.79</td>\n",
       "    </tr>\n",
       "    <tr>\n",
       "      <th>6</th>\n",
       "      <td>East</td>\n",
       "      <td>Steven</td>\n",
       "      <td>500920.09</td>\n",
       "    </tr>\n",
       "    <tr>\n",
       "      <th>7</th>\n",
       "      <td>East</td>\n",
       "      <td>Tom</td>\n",
       "      <td>423634.06</td>\n",
       "    </tr>\n",
       "    <tr>\n",
       "      <th>8</th>\n",
       "      <td>MidWest</td>\n",
       "      <td>Harry</td>\n",
       "      <td>247987.69</td>\n",
       "    </tr>\n",
       "    <tr>\n",
       "      <th>9</th>\n",
       "      <td>MidWest</td>\n",
       "      <td>James</td>\n",
       "      <td>207164.71</td>\n",
       "    </tr>\n",
       "    <tr>\n",
       "      <th>10</th>\n",
       "      <td>MidWest</td>\n",
       "      <td>Jon</td>\n",
       "      <td>231778.99</td>\n",
       "    </tr>\n",
       "    <tr>\n",
       "      <th>11</th>\n",
       "      <td>MidWest</td>\n",
       "      <td>Luke</td>\n",
       "      <td>199211.40</td>\n",
       "    </tr>\n",
       "    <tr>\n",
       "      <th>12</th>\n",
       "      <td>MidWest</td>\n",
       "      <td>Rhonda</td>\n",
       "      <td>192855.38</td>\n",
       "    </tr>\n",
       "    <tr>\n",
       "      <th>13</th>\n",
       "      <td>MidWest</td>\n",
       "      <td>Sherry</td>\n",
       "      <td>185465.42</td>\n",
       "    </tr>\n",
       "    <tr>\n",
       "      <th>14</th>\n",
       "      <td>MidWest</td>\n",
       "      <td>Steven</td>\n",
       "      <td>165974.78</td>\n",
       "    </tr>\n",
       "    <tr>\n",
       "      <th>15</th>\n",
       "      <td>MidWest</td>\n",
       "      <td>Tom</td>\n",
       "      <td>221063.19</td>\n",
       "    </tr>\n",
       "    <tr>\n",
       "      <th>16</th>\n",
       "      <td>North</td>\n",
       "      <td>Harry</td>\n",
       "      <td>255416.43</td>\n",
       "    </tr>\n",
       "    <tr>\n",
       "      <th>17</th>\n",
       "      <td>North</td>\n",
       "      <td>James</td>\n",
       "      <td>220679.39</td>\n",
       "    </tr>\n",
       "    <tr>\n",
       "      <th>18</th>\n",
       "      <td>North</td>\n",
       "      <td>Jon</td>\n",
       "      <td>277404.03</td>\n",
       "    </tr>\n",
       "    <tr>\n",
       "      <th>19</th>\n",
       "      <td>North</td>\n",
       "      <td>Luke</td>\n",
       "      <td>208200.24</td>\n",
       "    </tr>\n",
       "    <tr>\n",
       "      <th>20</th>\n",
       "      <td>North</td>\n",
       "      <td>Rhonda</td>\n",
       "      <td>167137.03</td>\n",
       "    </tr>\n",
       "    <tr>\n",
       "      <th>21</th>\n",
       "      <td>North</td>\n",
       "      <td>Sherry</td>\n",
       "      <td>156876.25</td>\n",
       "    </tr>\n",
       "    <tr>\n",
       "      <th>22</th>\n",
       "      <td>North</td>\n",
       "      <td>Steven</td>\n",
       "      <td>204597.69</td>\n",
       "    </tr>\n",
       "    <tr>\n",
       "      <th>23</th>\n",
       "      <td>North</td>\n",
       "      <td>Tom</td>\n",
       "      <td>233110.32</td>\n",
       "    </tr>\n",
       "    <tr>\n",
       "      <th>24</th>\n",
       "      <td>South</td>\n",
       "      <td>Harry</td>\n",
       "      <td>257832.05</td>\n",
       "    </tr>\n",
       "    <tr>\n",
       "      <th>25</th>\n",
       "      <td>South</td>\n",
       "      <td>James</td>\n",
       "      <td>169784.64</td>\n",
       "    </tr>\n",
       "    <tr>\n",
       "      <th>26</th>\n",
       "      <td>South</td>\n",
       "      <td>Jon</td>\n",
       "      <td>258672.84</td>\n",
       "    </tr>\n",
       "    <tr>\n",
       "      <th>27</th>\n",
       "      <td>South</td>\n",
       "      <td>Luke</td>\n",
       "      <td>231024.41</td>\n",
       "    </tr>\n",
       "    <tr>\n",
       "      <th>28</th>\n",
       "      <td>South</td>\n",
       "      <td>Rhonda</td>\n",
       "      <td>156087.13</td>\n",
       "    </tr>\n",
       "    <tr>\n",
       "      <th>29</th>\n",
       "      <td>South</td>\n",
       "      <td>Sherry</td>\n",
       "      <td>169710.11</td>\n",
       "    </tr>\n",
       "    <tr>\n",
       "      <th>30</th>\n",
       "      <td>South</td>\n",
       "      <td>Steven</td>\n",
       "      <td>235576.52</td>\n",
       "    </tr>\n",
       "    <tr>\n",
       "      <th>31</th>\n",
       "      <td>South</td>\n",
       "      <td>Tom</td>\n",
       "      <td>227730.44</td>\n",
       "    </tr>\n",
       "    <tr>\n",
       "      <th>32</th>\n",
       "      <td>West</td>\n",
       "      <td>Harry</td>\n",
       "      <td>161464.09</td>\n",
       "    </tr>\n",
       "    <tr>\n",
       "      <th>33</th>\n",
       "      <td>West</td>\n",
       "      <td>James</td>\n",
       "      <td>290770.33</td>\n",
       "    </tr>\n",
       "    <tr>\n",
       "      <th>34</th>\n",
       "      <td>West</td>\n",
       "      <td>Jon</td>\n",
       "      <td>173559.67</td>\n",
       "    </tr>\n",
       "    <tr>\n",
       "      <th>35</th>\n",
       "      <td>West</td>\n",
       "      <td>Luke</td>\n",
       "      <td>210096.98</td>\n",
       "    </tr>\n",
       "    <tr>\n",
       "      <th>36</th>\n",
       "      <td>West</td>\n",
       "      <td>Rhonda</td>\n",
       "      <td>185281.95</td>\n",
       "    </tr>\n",
       "    <tr>\n",
       "      <th>37</th>\n",
       "      <td>West</td>\n",
       "      <td>Sherry</td>\n",
       "      <td>188710.09</td>\n",
       "    </tr>\n",
       "    <tr>\n",
       "      <th>38</th>\n",
       "      <td>West</td>\n",
       "      <td>Steven</td>\n",
       "      <td>189088.14</td>\n",
       "    </tr>\n",
       "    <tr>\n",
       "      <th>39</th>\n",
       "      <td>West</td>\n",
       "      <td>Tom</td>\n",
       "      <td>170702.25</td>\n",
       "    </tr>\n",
       "  </tbody>\n",
       "</table>\n",
       "</div>"
      ],
      "text/plain": [
       "     Region Sales Rep      Sales\n",
       "0      East     Harry  486840.62\n",
       "1      East     James  424234.18\n",
       "2      East       Jon  334794.87\n",
       "3      East      Luke  333815.59\n",
       "4      East    Rhonda  402080.39\n",
       "5      East    Sherry  520169.79\n",
       "6      East    Steven  500920.09\n",
       "7      East       Tom  423634.06\n",
       "8   MidWest     Harry  247987.69\n",
       "9   MidWest     James  207164.71\n",
       "10  MidWest       Jon  231778.99\n",
       "11  MidWest      Luke  199211.40\n",
       "12  MidWest    Rhonda  192855.38\n",
       "13  MidWest    Sherry  185465.42\n",
       "14  MidWest    Steven  165974.78\n",
       "15  MidWest       Tom  221063.19\n",
       "16    North     Harry  255416.43\n",
       "17    North     James  220679.39\n",
       "18    North       Jon  277404.03\n",
       "19    North      Luke  208200.24\n",
       "20    North    Rhonda  167137.03\n",
       "21    North    Sherry  156876.25\n",
       "22    North    Steven  204597.69\n",
       "23    North       Tom  233110.32\n",
       "24    South     Harry  257832.05\n",
       "25    South     James  169784.64\n",
       "26    South       Jon  258672.84\n",
       "27    South      Luke  231024.41\n",
       "28    South    Rhonda  156087.13\n",
       "29    South    Sherry  169710.11\n",
       "30    South    Steven  235576.52\n",
       "31    South       Tom  227730.44\n",
       "32     West     Harry  161464.09\n",
       "33     West     James  290770.33\n",
       "34     West       Jon  173559.67\n",
       "35     West      Luke  210096.98\n",
       "36     West    Rhonda  185281.95\n",
       "37     West    Sherry  188710.09\n",
       "38     West    Steven  189088.14\n",
       "39     West       Tom  170702.25"
      ]
     },
     "execution_count": 125,
     "metadata": {},
     "output_type": "execute_result"
    }
   ],
   "source": [
    "df.groupby(['Region','Sales Rep'], as_index=False)['Sales'].sum()"
   ]
  },
  {
   "cell_type": "code",
   "execution_count": null,
   "metadata": {},
   "outputs": [],
   "source": []
  },
  {
   "cell_type": "markdown",
   "metadata": {
    "id": "J5tx2ER6skTg"
   },
   "source": [
    "### 18. Create a feature \"Sales_bin\" with 4 labels namely (1,2,3,4) based on the feature \"Sales\"."
   ]
  },
  {
   "cell_type": "code",
   "execution_count": 131,
   "metadata": {
    "ExecuteTime": {
     "end_time": "2024-01-30T06:22:49.806541Z",
     "start_time": "2024-01-30T06:22:49.795658Z"
    }
   },
   "outputs": [
    {
     "data": {
      "text/plain": [
       "0       4\n",
       "1       4\n",
       "2       4\n",
       "3       3\n",
       "4       4\n",
       "       ..\n",
       "1994    2\n",
       "1995    4\n",
       "1996    4\n",
       "1997    1\n",
       "1998    2\n",
       "Name: sales_bin, Length: 1999, dtype: category\n",
       "Categories (4, int64): [1 < 2 < 3 < 4]"
      ]
     },
     "execution_count": 131,
     "metadata": {},
     "output_type": "execute_result"
    }
   ],
   "source": [
    "bin_size = 4\n",
    "\n",
    "df['sales_bin'] = pd.cut(df['Sales'] , bins= bin_size,labels=range(1,bin_size+1))\n",
    "df['sales_bin']"
   ]
  },
  {
   "cell_type": "code",
   "execution_count": 132,
   "metadata": {
    "ExecuteTime": {
     "end_time": "2024-01-30T06:22:55.391679Z",
     "start_time": "2024-01-30T06:22:55.370142Z"
    }
   },
   "outputs": [
    {
     "data": {
      "text/html": [
       "<div>\n",
       "<style scoped>\n",
       "    .dataframe tbody tr th:only-of-type {\n",
       "        vertical-align: middle;\n",
       "    }\n",
       "\n",
       "    .dataframe tbody tr th {\n",
       "        vertical-align: top;\n",
       "    }\n",
       "\n",
       "    .dataframe thead th {\n",
       "        text-align: right;\n",
       "    }\n",
       "</style>\n",
       "<table border=\"1\" class=\"dataframe\">\n",
       "  <thead>\n",
       "    <tr style=\"text-align: right;\">\n",
       "      <th></th>\n",
       "      <th>Date</th>\n",
       "      <th>Region</th>\n",
       "      <th>Sales Rep</th>\n",
       "      <th>Customer</th>\n",
       "      <th>Product</th>\n",
       "      <th>COGS</th>\n",
       "      <th>Sales</th>\n",
       "      <th>sales_bin</th>\n",
       "    </tr>\n",
       "  </thead>\n",
       "  <tbody>\n",
       "    <tr>\n",
       "      <th>0</th>\n",
       "      <td>2004-06-17</td>\n",
       "      <td>MidWest</td>\n",
       "      <td>Harry</td>\n",
       "      <td>ExcelIsVeryFun.com</td>\n",
       "      <td>MWN Item</td>\n",
       "      <td>6305.0008</td>\n",
       "      <td>9272.06</td>\n",
       "      <td>4</td>\n",
       "    </tr>\n",
       "    <tr>\n",
       "      <th>1</th>\n",
       "      <td>2004-06-17</td>\n",
       "      <td>East</td>\n",
       "      <td>Harry</td>\n",
       "      <td>Office Depot</td>\n",
       "      <td>MBP Item</td>\n",
       "      <td>5773.2000</td>\n",
       "      <td>8490.00</td>\n",
       "      <td>4</td>\n",
       "    </tr>\n",
       "    <tr>\n",
       "      <th>2</th>\n",
       "      <td>2004-06-17</td>\n",
       "      <td>South</td>\n",
       "      <td>Harry</td>\n",
       "      <td>ExcelIsVeryFun.com</td>\n",
       "      <td>KVM Item</td>\n",
       "      <td>8271.4896</td>\n",
       "      <td>9399.42</td>\n",
       "      <td>4</td>\n",
       "    </tr>\n",
       "    <tr>\n",
       "      <th>3</th>\n",
       "      <td>2004-06-17</td>\n",
       "      <td>West</td>\n",
       "      <td>Jon</td>\n",
       "      <td>Sherman Williams</td>\n",
       "      <td>UBU Item</td>\n",
       "      <td>4919.6028</td>\n",
       "      <td>7234.71</td>\n",
       "      <td>3</td>\n",
       "    </tr>\n",
       "    <tr>\n",
       "      <th>4</th>\n",
       "      <td>2004-06-17</td>\n",
       "      <td>North</td>\n",
       "      <td>Harry</td>\n",
       "      <td>Whole Foods</td>\n",
       "      <td>HES Item</td>\n",
       "      <td>5838.1500</td>\n",
       "      <td>7784.20</td>\n",
       "      <td>4</td>\n",
       "    </tr>\n",
       "    <tr>\n",
       "      <th>...</th>\n",
       "      <td>...</td>\n",
       "      <td>...</td>\n",
       "      <td>...</td>\n",
       "      <td>...</td>\n",
       "      <td>...</td>\n",
       "      <td>...</td>\n",
       "      <td>...</td>\n",
       "      <td>...</td>\n",
       "    </tr>\n",
       "    <tr>\n",
       "      <th>1994</th>\n",
       "      <td>2006-06-14</td>\n",
       "      <td>East</td>\n",
       "      <td>Steven</td>\n",
       "      <td>Peet's Coffee</td>\n",
       "      <td>EJL Item</td>\n",
       "      <td>2315.4340</td>\n",
       "      <td>3405.05</td>\n",
       "      <td>2</td>\n",
       "    </tr>\n",
       "    <tr>\n",
       "      <th>1995</th>\n",
       "      <td>2006-06-15</td>\n",
       "      <td>North</td>\n",
       "      <td>Harry</td>\n",
       "      <td>Amazon.com</td>\n",
       "      <td>ZON Item</td>\n",
       "      <td>5406.2703</td>\n",
       "      <td>9163.17</td>\n",
       "      <td>4</td>\n",
       "    </tr>\n",
       "    <tr>\n",
       "      <th>1996</th>\n",
       "      <td>2006-06-15</td>\n",
       "      <td>East</td>\n",
       "      <td>Jon</td>\n",
       "      <td>Amazon.com</td>\n",
       "      <td>ZET Item</td>\n",
       "      <td>6971.4975</td>\n",
       "      <td>9295.33</td>\n",
       "      <td>4</td>\n",
       "    </tr>\n",
       "    <tr>\n",
       "      <th>1997</th>\n",
       "      <td>2006-06-15</td>\n",
       "      <td>North</td>\n",
       "      <td>Harry</td>\n",
       "      <td>Solar and Wind Inc.</td>\n",
       "      <td>JFA Item</td>\n",
       "      <td>736.2520</td>\n",
       "      <td>836.65</td>\n",
       "      <td>1</td>\n",
       "    </tr>\n",
       "    <tr>\n",
       "      <th>1998</th>\n",
       "      <td>2006-06-16</td>\n",
       "      <td>East</td>\n",
       "      <td>Jon</td>\n",
       "      <td>Google</td>\n",
       "      <td>QJV Item</td>\n",
       "      <td>1835.8972</td>\n",
       "      <td>3165.34</td>\n",
       "      <td>2</td>\n",
       "    </tr>\n",
       "  </tbody>\n",
       "</table>\n",
       "<p>1999 rows × 8 columns</p>\n",
       "</div>"
      ],
      "text/plain": [
       "           Date   Region Sales Rep             Customer   Product       COGS  \\\n",
       "0    2004-06-17  MidWest     Harry   ExcelIsVeryFun.com  MWN Item  6305.0008   \n",
       "1    2004-06-17     East     Harry         Office Depot  MBP Item  5773.2000   \n",
       "2    2004-06-17    South     Harry   ExcelIsVeryFun.com  KVM Item  8271.4896   \n",
       "3    2004-06-17     West       Jon     Sherman Williams  UBU Item  4919.6028   \n",
       "4    2004-06-17    North     Harry          Whole Foods  HES Item  5838.1500   \n",
       "...         ...      ...       ...                  ...       ...        ...   \n",
       "1994 2006-06-14     East    Steven        Peet's Coffee  EJL Item  2315.4340   \n",
       "1995 2006-06-15    North     Harry           Amazon.com  ZON Item  5406.2703   \n",
       "1996 2006-06-15     East       Jon           Amazon.com  ZET Item  6971.4975   \n",
       "1997 2006-06-15    North     Harry  Solar and Wind Inc.  JFA Item   736.2520   \n",
       "1998 2006-06-16     East       Jon               Google  QJV Item  1835.8972   \n",
       "\n",
       "        Sales sales_bin  \n",
       "0     9272.06         4  \n",
       "1     8490.00         4  \n",
       "2     9399.42         4  \n",
       "3     7234.71         3  \n",
       "4     7784.20         4  \n",
       "...       ...       ...  \n",
       "1994  3405.05         2  \n",
       "1995  9163.17         4  \n",
       "1996  9295.33         4  \n",
       "1997   836.65         1  \n",
       "1998  3165.34         2  \n",
       "\n",
       "[1999 rows x 8 columns]"
      ]
     },
     "execution_count": 132,
     "metadata": {},
     "output_type": "execute_result"
    }
   ],
   "source": [
    "df"
   ]
  },
  {
   "cell_type": "code",
   "execution_count": 138,
   "metadata": {
    "ExecuteTime": {
     "end_time": "2024-01-30T07:45:19.432192Z",
     "start_time": "2024-01-30T07:45:19.411303Z"
    }
   },
   "outputs": [
    {
     "data": {
      "text/plain": [
       "sales_bin\n",
       "1    478\n",
       "2    536\n",
       "3    479\n",
       "4    506\n",
       "Name: sales_bin, dtype: int64"
      ]
     },
     "execution_count": 138,
     "metadata": {},
     "output_type": "execute_result"
    }
   ],
   "source": [
    "df.groupby('sales_bin')['sales_bin'].count()"
   ]
  },
  {
   "cell_type": "markdown",
   "metadata": {
    "id": "8Zx6LtAZtHWR"
   },
   "source": [
    "### 19. Create a grouped bar plot using Seaborn to visualize the count of sales bins for different sales representatives in different regions based on the provided dataset df?"
   ]
  },
  {
   "cell_type": "code",
   "execution_count": 134,
   "metadata": {
    "ExecuteTime": {
     "end_time": "2024-01-30T06:23:59.782074Z",
     "start_time": "2024-01-30T06:23:59.575596Z"
    },
    "executionInfo": {
     "elapsed": 14,
     "status": "ok",
     "timestamp": 1690903996713,
     "user": {
      "displayName": "V. Arun Kumar",
      "userId": "02991517788843717529"
     },
     "user_tz": -330
    },
    "id": "RiwclVhF560Y"
   },
   "outputs": [
    {
     "data": {
      "text/plain": [
       "<AxesSubplot:xlabel='Region'>"
      ]
     },
     "execution_count": 134,
     "metadata": {},
     "output_type": "execute_result"
    },
    {
     "data": {
      "image/png": "[encoded data removed]",
      "text/plain": [
       "<Figure size 640x480 with 1 Axes>"
      ]
     },
     "metadata": {},
     "output_type": "display_data"
    }
   ],
   "source": [
    "df.groupby(['Region','Sales Rep'])['sales_bin'].count().unstack().plot(kind = 'bar')"
   ]
  },
  {
   "cell_type": "code",
   "execution_count": 136,
   "metadata": {
    "ExecuteTime": {
     "end_time": "2024-01-30T07:44:25.265782Z",
     "start_time": "2024-01-30T07:44:25.198198Z"
    },
    "executionInfo": {
     "elapsed": 14,
     "status": "ok",
     "timestamp": 1690903996713,
     "user": {
      "displayName": "V. Arun Kumar",
      "userId": "02991517788843717529"
     },
     "user_tz": -330
    },
    "id": "24ha3lgV6SA-"
   },
   "outputs": [
    {
     "data": {
      "text/html": [
       "<div>\n",
       "<style scoped>\n",
       "    .dataframe tbody tr th:only-of-type {\n",
       "        vertical-align: middle;\n",
       "    }\n",
       "\n",
       "    .dataframe tbody tr th {\n",
       "        vertical-align: top;\n",
       "    }\n",
       "\n",
       "    .dataframe thead th {\n",
       "        text-align: right;\n",
       "    }\n",
       "</style>\n",
       "<table border=\"1\" class=\"dataframe\">\n",
       "  <thead>\n",
       "    <tr style=\"text-align: right;\">\n",
       "      <th></th>\n",
       "      <th>Sales Rep</th>\n",
       "      <th>Region</th>\n",
       "      <th>sales_bin</th>\n",
       "      <th>count</th>\n",
       "    </tr>\n",
       "  </thead>\n",
       "  <tbody>\n",
       "    <tr>\n",
       "      <th>0</th>\n",
       "      <td>Harry</td>\n",
       "      <td>East</td>\n",
       "      <td>1</td>\n",
       "      <td>21</td>\n",
       "    </tr>\n",
       "    <tr>\n",
       "      <th>1</th>\n",
       "      <td>Harry</td>\n",
       "      <td>East</td>\n",
       "      <td>2</td>\n",
       "      <td>26</td>\n",
       "    </tr>\n",
       "    <tr>\n",
       "      <th>2</th>\n",
       "      <td>Harry</td>\n",
       "      <td>East</td>\n",
       "      <td>3</td>\n",
       "      <td>16</td>\n",
       "    </tr>\n",
       "    <tr>\n",
       "      <th>3</th>\n",
       "      <td>Harry</td>\n",
       "      <td>East</td>\n",
       "      <td>4</td>\n",
       "      <td>29</td>\n",
       "    </tr>\n",
       "    <tr>\n",
       "      <th>4</th>\n",
       "      <td>Harry</td>\n",
       "      <td>MidWest</td>\n",
       "      <td>1</td>\n",
       "      <td>11</td>\n",
       "    </tr>\n",
       "    <tr>\n",
       "      <th>...</th>\n",
       "      <td>...</td>\n",
       "      <td>...</td>\n",
       "      <td>...</td>\n",
       "      <td>...</td>\n",
       "    </tr>\n",
       "    <tr>\n",
       "      <th>155</th>\n",
       "      <td>Tom</td>\n",
       "      <td>South</td>\n",
       "      <td>4</td>\n",
       "      <td>11</td>\n",
       "    </tr>\n",
       "    <tr>\n",
       "      <th>156</th>\n",
       "      <td>Tom</td>\n",
       "      <td>West</td>\n",
       "      <td>1</td>\n",
       "      <td>14</td>\n",
       "    </tr>\n",
       "    <tr>\n",
       "      <th>157</th>\n",
       "      <td>Tom</td>\n",
       "      <td>West</td>\n",
       "      <td>2</td>\n",
       "      <td>8</td>\n",
       "    </tr>\n",
       "    <tr>\n",
       "      <th>158</th>\n",
       "      <td>Tom</td>\n",
       "      <td>West</td>\n",
       "      <td>3</td>\n",
       "      <td>6</td>\n",
       "    </tr>\n",
       "    <tr>\n",
       "      <th>159</th>\n",
       "      <td>Tom</td>\n",
       "      <td>West</td>\n",
       "      <td>4</td>\n",
       "      <td>11</td>\n",
       "    </tr>\n",
       "  </tbody>\n",
       "</table>\n",
       "<p>160 rows × 4 columns</p>\n",
       "</div>"
      ],
      "text/plain": [
       "    Sales Rep   Region sales_bin  count\n",
       "0       Harry     East         1     21\n",
       "1       Harry     East         2     26\n",
       "2       Harry     East         3     16\n",
       "3       Harry     East         4     29\n",
       "4       Harry  MidWest         1     11\n",
       "..        ...      ...       ...    ...\n",
       "155       Tom    South         4     11\n",
       "156       Tom     West         1     14\n",
       "157       Tom     West         2      8\n",
       "158       Tom     West         3      6\n",
       "159       Tom     West         4     11\n",
       "\n",
       "[160 rows x 4 columns]"
      ]
     },
     "execution_count": 136,
     "metadata": {},
     "output_type": "execute_result"
    }
   ],
   "source": [
    "df.groupby(['Sales Rep','Region','sales_bin'], as_index = False)['sales_bin'].value_counts()"
   ]
  }
 ],
 "metadata": {
  "colab": {
   "provenance": []
  },
  "kernelspec": {
   "display_name": "Python 3 (ipykernel)",
   "language": "python",
   "name": "python3"
  },
  "language_info": {
   "codemirror_mode": {
    "name": "ipython",
    "version": 3
   },
   "file_extension": ".py",
   "mimetype": "text/x-python",
   "name": "python",
   "nbconvert_exporter": "python",
   "pygments_lexer": "ipython3",
   "version": "3.9.13"
  },
  "varInspector": {
   "cols": {
    "lenName": 16,
    "lenType": 16,
    "lenVar": 40
   },
   "kernels_config": {
    "python": {
     "delete_cmd_postfix": "",
     "delete_cmd_prefix": "del ",
     "library": "var_list.py",
     "varRefreshCmd": "print(var_dic_list())"
    },
    "r": {
     "delete_cmd_postfix": ") ",
     "delete_cmd_prefix": "rm(",
     "library": "var_list.r",
     "varRefreshCmd": "cat(var_dic_list()) "
    }
   },
   "types_to_exclude": [
    "module",
    "function",
    "builtin_function_or_method",
    "instance",
    "_Feature"
   ],
   "window_display": false
  }
 },
 "nbformat": 4,
 "nbformat_minor": 1
}
